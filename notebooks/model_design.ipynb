{
 "cells": [
  {
   "cell_type": "markdown",
   "id": "fab7953f",
   "metadata": {},
   "source": [
    "### Définir les couches du modèle (Conv2D, MaxPooling2D, Dropout, Dense)."
   ]
  },
  {
   "cell_type": "markdown",
   "id": "7b35e5fb",
   "metadata": {},
   "source": [
    "Pour construire le modèle CNN:\n",
    "\n",
    "- on a utilisé 3 blocs convolutionnels avec activation ReLU, suivis de couches de pooling et de dropout spatial afin d’extraire les caractéristiques importantes et de réduire le surapprentissage.\n",
    "\n",
    "- Les cartes de caractéristiques obtenues sont aplaties et transmises à des couches entièrement connectées, avec un dropout supplémentaire pour limiter le surapprentissage.\n",
    "\n",
    "- La couche de sortie génère les probabilités finales pour la classification, et le modèle est entraîné avec l’optimiseur Adam en suivant une fonction de perte adaptée, la précision servant de métrique pour évaluer ses performances."
   ]
  },
  {
   "cell_type": "code",
   "execution_count": null,
   "id": "e42ca87e",
   "metadata": {},
   "outputs": [],
   "source": [
    "from tensorflow.keras.models import Sequential\n",
    "from tensorflow.keras.layers import Conv2D, MaxPooling2D, Dropout, Flatten, Dense, SpatialDropout2D\n",
    "\n",
    "model = Sequential()\n",
    "\n",
    "model.add(Conv2D(filters=32, kernel_size=(3,3), activation='relu', input_shape=(224,224,3)))\n",
    "model.add(MaxPooling2D(pool_size=(2,2)))\n",
    "model.add(SpatialDropout2D(0.25))\n",
    "\n",
    "model.add(Conv2D(filters=64, kernel_size=(3,3), activation='relu'))\n",
    "model.add(MaxPooling2D(pool_size=(2,2)))\n",
    "model.add(SpatialDropout2D(0.25))\n",
    "\n",
    "model.add(Conv2D(filters=128, kernel_size=(3,3), activation='relu'))\n",
    "model.add(MaxPooling2D(pool_size=(2,2)))\n",
    "model.add(SpatialDropout2D(0.25))\n",
    "\n",
    "model.add(Flatten())\n",
    "\n",
    "model.add(Dense(128, activation='sigmoid'))\n",
    "model.add(Dropout(0.5))\n",
    "\n",
    "model.add(Dense(1, activation='softmax'))\n"
   ]
  },
  {
   "cell_type": "markdown",
   "id": "b46a246f",
   "metadata": {},
   "source": [
    "### Choisir les fonctions d’activation appropriées\n",
    "\n",
    "Pour les couches convolutionnelles, on a choisi l’activation ReLU afin d’introduire de la non-linéarité et de permettre au réseau de modéliser des relations complexes tout en évitant le problème du gradient nul. Pour les couches cachées entièrement connectées, l’activation sigmoïde a été utilisée afin de normaliser les sorties entre 0 et 1, facilitant la convergence du modèle. Enfin, la couche de sortie utilise softmax pour produire des probabilités normalisées sur toutes les classes, ce qui permet d’effectuer une classification multi-classes."
   ]
  },
  {
   "cell_type": "markdown",
   "id": "d4d77d4f",
   "metadata": {},
   "source": [
    "### Vérifier la structure avec model.summary() et plot_model()."
   ]
  },
  {
   "cell_type": "code",
   "execution_count": null,
   "id": "ced62647",
   "metadata": {},
   "outputs": [],
   "source": [
    "model.summary()"
   ]
  },
  {
   "cell_type": "code",
   "execution_count": null,
   "id": "8fd40a84",
   "metadata": {},
   "outputs": [],
   "source": [
    "from tensorflow.keras.utils import plot_model\n",
    "\n",
    "plot_model(model, to_file='../models/model.png', show_shapes=True, show_layer_names=True)"
   ]
  },
  {
   "cell_type": "markdown",
   "id": "47b6b323",
   "metadata": {},
   "source": [
    "### Déterminer les hyperparamètres: la taille de batch, le nombre d’époques et le taux d’apprentissage.\n",
    "\n",
    "La méthode compile() configure le processus d’apprentissage du modèle. Elle définit l’optimiseur (Adam), la fonction de perte (categorical crossentropy) et la métrique d’évaluation (accuracy), permettant ainsi de contrôler la manière dont le modèle apprend et mesure ses performances."
   ]
  },
  {
   "cell_type": "code",
   "execution_count": 12,
   "id": "10b12737",
   "metadata": {},
   "outputs": [],
   "source": [
    "from tensorflow.keras.optimizers import Adam\n",
    "\n",
    "batch_size = 32\n",
    "epochs = 40\n",
    "learning_rate = 0.001\n",
    "\n",
    "optimizer = Adam(learning_rate=learning_rate)\n",
    "\n",
    "model.compile(optimizer=optimizer, loss='categorical_crossentropy', metrics=['accuracy'])"
   ]
  }
 ],
 "metadata": {
  "kernelspec": {
   "display_name": "Python 3",
   "language": "python",
   "name": "python3"
  },
  "language_info": {
   "codemirror_mode": {
    "name": "ipython",
    "version": 3
   },
   "file_extension": ".py",
   "mimetype": "text/x-python",
   "name": "python",
   "nbconvert_exporter": "python",
   "pygments_lexer": "ipython3",
   "version": "3.13.7"
  }
 },
 "nbformat": 4,
 "nbformat_minor": 5
}
