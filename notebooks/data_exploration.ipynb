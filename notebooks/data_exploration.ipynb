{
 "cells": [
  {
   "cell_type": "markdown",
   "id": "a010ad7c",
   "metadata": {},
   "source": [
    "### Charger les images du dataset et vérifier leurs extensions (jpeg, jpg, bmp, png)"
   ]
  },
  {
   "cell_type": "code",
   "execution_count": 19,
   "id": "47bf4641",
   "metadata": {},
   "outputs": [],
   "source": [
    "import os\n",
    "import cv2\n",
    "\n",
    "dataset_path = os.getcwd() + '/../data/raw/Data'\n",
    "allowed_ext = ['jpeg', 'jpg', 'bmp', 'png']\n",
    "\n",
    "images = []\n",
    "labels = []\n",
    "\n",
    "for label_name in os.listdir(dataset_path):\n",
    "    label_path = os.path.join(dataset_path, label_name)\n",
    "\n",
    "    try:\n",
    "        for file_name in os.listdir(label_path):\n",
    "            file_path = os.path.join(label_path, file_name)\n",
    "\n",
    "            extension = os.path.splitext(file_path)[1][1:]\n",
    "\n",
    "            if (extension not in allowed_ext):\n",
    "                continue\n",
    "\n",
    "            img = cv2.imread(file_path)\n",
    "\n",
    "            resized_img = cv2.resize(img, (224, 224))\n",
    "\n",
    "            images.append(resized_img)\n",
    "            labels.append(label_name)\n",
    "\n",
    "    except:\n",
    "        print(label_path, \"is not a directory\")"
   ]
  },
  {
   "cell_type": "markdown",
   "id": "f02a027c",
   "metadata": {},
   "source": [
    "### Explorer la structure des dossiers pour identifier les classes disponibles."
   ]
  },
  {
   "cell_type": "code",
   "execution_count": 17,
   "id": "830719bf",
   "metadata": {},
   "outputs": [
    {
     "name": "stdout",
     "output_type": "stream",
     "text": [
      "glioma\n",
      "meningioma\n",
      "notumor\n",
      "pituitary\n"
     ]
    }
   ],
   "source": [
    "dataset_path = os.getcwd() + '/../data/raw/Data'\n",
    "\n",
    "for label_name in os.listdir(dataset_path):\n",
    "    print(label_name)"
   ]
  }
 ],
 "metadata": {
  "kernelspec": {
   "display_name": "Python 3",
   "language": "python",
   "name": "python3"
  },
  "language_info": {
   "codemirror_mode": {
    "name": "ipython",
    "version": 3
   },
   "file_extension": ".py",
   "mimetype": "text/x-python",
   "name": "python",
   "nbconvert_exporter": "python",
   "pygments_lexer": "ipython3",
   "version": "3.13.7"
  }
 },
 "nbformat": 4,
 "nbformat_minor": 5
}
