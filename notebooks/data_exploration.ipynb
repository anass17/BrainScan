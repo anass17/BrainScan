{
 "cells": [
  {
   "cell_type": "markdown",
   "id": "a010ad7c",
   "metadata": {},
   "source": [
    "### Charger les images du dataset et vérifier leurs extensions (jpeg, jpg, bmp, png)"
   ]
  },
  {
   "cell_type": "code",
   "execution_count": null,
   "id": "47bf4641",
   "metadata": {},
   "outputs": [],
   "source": [
    "import os\n",
    "import cv2\n",
    "\n",
    "dataset_path = os.getcwd() + '/../data/raw/Data'\n",
    "\n",
    "for label_name in os.listdir(dataset_path):\n",
    "    label_path = os.path.join(dataset_path, label_name)\n",
    "\n",
    "    try:\n",
    "        for file_name in os.listdir(label_path):\n",
    "            file_path = os.path.join(label_path, file_name)\n",
    "\n",
    "            img = cv2.imread(file_path)\n",
    "\n",
    "    except:\n",
    "        print(label_path, \"is not a directory\")"
   ]
  }
 ],
 "metadata": {
  "kernelspec": {
   "display_name": "Python 3",
   "language": "python",
   "name": "python3"
  },
  "language_info": {
   "codemirror_mode": {
    "name": "ipython",
    "version": 3
   },
   "file_extension": ".py",
   "mimetype": "text/x-python",
   "name": "python",
   "nbconvert_exporter": "python",
   "pygments_lexer": "ipython3",
   "version": "3.13.7"
  }
 },
 "nbformat": 4,
 "nbformat_minor": 5
}
